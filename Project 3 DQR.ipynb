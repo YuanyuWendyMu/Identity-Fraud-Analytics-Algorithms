{
 "cells": [
  {
   "cell_type": "code",
   "execution_count": 1,
   "metadata": {},
   "outputs": [],
   "source": [
    "import pandas as pd\n",
    "import matplotlib.pyplot as plt"
   ]
  },
  {
   "cell_type": "code",
   "execution_count": 11,
   "metadata": {},
   "outputs": [
    {
     "name": "stdout",
     "output_type": "stream",
     "text": [
      "Wall time: 8.99 s\n"
     ]
    }
   ],
   "source": [
    "%%time\n",
    "data = pd.read_csv('applications data.csv')"
   ]
  },
  {
   "cell_type": "code",
   "execution_count": 4,
   "metadata": {},
   "outputs": [
    {
     "data": {
      "text/html": [
       "<div>\n",
       "<style scoped>\n",
       "    .dataframe tbody tr th:only-of-type {\n",
       "        vertical-align: middle;\n",
       "    }\n",
       "\n",
       "    .dataframe tbody tr th {\n",
       "        vertical-align: top;\n",
       "    }\n",
       "\n",
       "    .dataframe thead th {\n",
       "        text-align: right;\n",
       "    }\n",
       "</style>\n",
       "<table border=\"1\" class=\"dataframe\">\n",
       "  <thead>\n",
       "    <tr style=\"text-align: right;\">\n",
       "      <th></th>\n",
       "      <th>record</th>\n",
       "      <th>date</th>\n",
       "      <th>ssn</th>\n",
       "      <th>firstname</th>\n",
       "      <th>lastname</th>\n",
       "      <th>address</th>\n",
       "      <th>zip5</th>\n",
       "      <th>dob</th>\n",
       "      <th>homephone</th>\n",
       "      <th>fraud_label</th>\n",
       "    </tr>\n",
       "  </thead>\n",
       "  <tbody>\n",
       "    <tr>\n",
       "      <th>0</th>\n",
       "      <td>1</td>\n",
       "      <td>20160101</td>\n",
       "      <td>379070012</td>\n",
       "      <td>XRRAMMTR</td>\n",
       "      <td>SMJETJMJ</td>\n",
       "      <td>6861 EUTST PL</td>\n",
       "      <td>2765</td>\n",
       "      <td>19070626</td>\n",
       "      <td>1797504115</td>\n",
       "      <td>0</td>\n",
       "    </tr>\n",
       "    <tr>\n",
       "      <th>1</th>\n",
       "      <td>2</td>\n",
       "      <td>20160101</td>\n",
       "      <td>387482503</td>\n",
       "      <td>MAMSTUJR</td>\n",
       "      <td>RTTEMRRR</td>\n",
       "      <td>7280 URASA PL</td>\n",
       "      <td>57169</td>\n",
       "      <td>19340615</td>\n",
       "      <td>4164239415</td>\n",
       "      <td>1</td>\n",
       "    </tr>\n",
       "    <tr>\n",
       "      <th>2</th>\n",
       "      <td>3</td>\n",
       "      <td>20160101</td>\n",
       "      <td>200332444</td>\n",
       "      <td>SZMMUJEZS</td>\n",
       "      <td>EUSEZRAE</td>\n",
       "      <td>5581 RSREX LN</td>\n",
       "      <td>56721</td>\n",
       "      <td>19070626</td>\n",
       "      <td>216537580</td>\n",
       "      <td>0</td>\n",
       "    </tr>\n",
       "    <tr>\n",
       "      <th>3</th>\n",
       "      <td>4</td>\n",
       "      <td>20160101</td>\n",
       "      <td>747451317</td>\n",
       "      <td>SJJZSXRSZ</td>\n",
       "      <td>ETJXTXXS</td>\n",
       "      <td>1387 UJZXJ RD</td>\n",
       "      <td>35286</td>\n",
       "      <td>19440430</td>\n",
       "      <td>132144161</td>\n",
       "      <td>0</td>\n",
       "    </tr>\n",
       "    <tr>\n",
       "      <th>4</th>\n",
       "      <td>5</td>\n",
       "      <td>20160101</td>\n",
       "      <td>24065868</td>\n",
       "      <td>SSSXUEJMS</td>\n",
       "      <td>SSUUJXUZ</td>\n",
       "      <td>279 EAASA WY</td>\n",
       "      <td>3173</td>\n",
       "      <td>19980315</td>\n",
       "      <td>6101082272</td>\n",
       "      <td>0</td>\n",
       "    </tr>\n",
       "    <tr>\n",
       "      <th>5</th>\n",
       "      <td>6</td>\n",
       "      <td>20160101</td>\n",
       "      <td>922264214</td>\n",
       "      <td>XEEJJSTER</td>\n",
       "      <td>ERJSAXA</td>\n",
       "      <td>4322 USJXU LN</td>\n",
       "      <td>8391</td>\n",
       "      <td>19480613</td>\n",
       "      <td>5742016319</td>\n",
       "      <td>0</td>\n",
       "    </tr>\n",
       "    <tr>\n",
       "      <th>6</th>\n",
       "      <td>7</td>\n",
       "      <td>20160101</td>\n",
       "      <td>415812149</td>\n",
       "      <td>XZJRJUSRR</td>\n",
       "      <td>STSMJRUM</td>\n",
       "      <td>478 EEXUM LN</td>\n",
       "      <td>41640</td>\n",
       "      <td>19640318</td>\n",
       "      <td>7697396312</td>\n",
       "      <td>0</td>\n",
       "    </tr>\n",
       "    <tr>\n",
       "      <th>7</th>\n",
       "      <td>8</td>\n",
       "      <td>20160101</td>\n",
       "      <td>373752050</td>\n",
       "      <td>EJMRRSUXR</td>\n",
       "      <td>AMTZXRU</td>\n",
       "      <td>8906 UUAJ PL</td>\n",
       "      <td>60567</td>\n",
       "      <td>19190528</td>\n",
       "      <td>2727421586</td>\n",
       "      <td>0</td>\n",
       "    </tr>\n",
       "    <tr>\n",
       "      <th>8</th>\n",
       "      <td>9</td>\n",
       "      <td>20160101</td>\n",
       "      <td>769970791</td>\n",
       "      <td>RXTSZJATS</td>\n",
       "      <td>RSXMRJME</td>\n",
       "      <td>8266 SSEAR RD</td>\n",
       "      <td>37934</td>\n",
       "      <td>19900314</td>\n",
       "      <td>5520652307</td>\n",
       "      <td>0</td>\n",
       "    </tr>\n",
       "    <tr>\n",
       "      <th>9</th>\n",
       "      <td>10</td>\n",
       "      <td>20160101</td>\n",
       "      <td>732119085</td>\n",
       "      <td>EREMTZXXA</td>\n",
       "      <td>EXMMSEXT</td>\n",
       "      <td>9166 XXSAZ PL</td>\n",
       "      <td>93751</td>\n",
       "      <td>19750127</td>\n",
       "      <td>3749451123</td>\n",
       "      <td>0</td>\n",
       "    </tr>\n",
       "  </tbody>\n",
       "</table>\n",
       "</div>"
      ],
      "text/plain": [
       "   record      date        ssn  firstname  lastname        address   zip5  \\\n",
       "0       1  20160101  379070012   XRRAMMTR  SMJETJMJ  6861 EUTST PL   2765   \n",
       "1       2  20160101  387482503   MAMSTUJR  RTTEMRRR  7280 URASA PL  57169   \n",
       "2       3  20160101  200332444  SZMMUJEZS  EUSEZRAE  5581 RSREX LN  56721   \n",
       "3       4  20160101  747451317  SJJZSXRSZ  ETJXTXXS  1387 UJZXJ RD  35286   \n",
       "4       5  20160101   24065868  SSSXUEJMS  SSUUJXUZ   279 EAASA WY   3173   \n",
       "5       6  20160101  922264214  XEEJJSTER   ERJSAXA  4322 USJXU LN   8391   \n",
       "6       7  20160101  415812149  XZJRJUSRR  STSMJRUM   478 EEXUM LN  41640   \n",
       "7       8  20160101  373752050  EJMRRSUXR   AMTZXRU   8906 UUAJ PL  60567   \n",
       "8       9  20160101  769970791  RXTSZJATS  RSXMRJME  8266 SSEAR RD  37934   \n",
       "9      10  20160101  732119085  EREMTZXXA  EXMMSEXT  9166 XXSAZ PL  93751   \n",
       "\n",
       "        dob   homephone  fraud_label  \n",
       "0  19070626  1797504115            0  \n",
       "1  19340615  4164239415            1  \n",
       "2  19070626   216537580            0  \n",
       "3  19440430   132144161            0  \n",
       "4  19980315  6101082272            0  \n",
       "5  19480613  5742016319            0  \n",
       "6  19640318  7697396312            0  \n",
       "7  19190528  2727421586            0  \n",
       "8  19900314  5520652307            0  \n",
       "9  19750127  3749451123            0  "
      ]
     },
     "execution_count": 4,
     "metadata": {},
     "output_type": "execute_result"
    }
   ],
   "source": [
    "data.head(10)"
   ]
  },
  {
   "cell_type": "code",
   "execution_count": 5,
   "metadata": {},
   "outputs": [
    {
     "data": {
      "text/plain": [
       "1000000"
      ]
     },
     "execution_count": 5,
     "metadata": {},
     "output_type": "execute_result"
    }
   ],
   "source": [
    "numrecord = len(data)\n",
    "numrecord"
   ]
  },
  {
   "cell_type": "code",
   "execution_count": 6,
   "metadata": {},
   "outputs": [
    {
     "data": {
      "text/plain": [
       "(1000000, 10)"
      ]
     },
     "execution_count": 6,
     "metadata": {},
     "output_type": "execute_result"
    }
   ],
   "source": [
    "data.shape"
   ]
  },
  {
   "cell_type": "code",
   "execution_count": 7,
   "metadata": {},
   "outputs": [
    {
     "data": {
      "text/plain": [
       "record          int64\n",
       "date            int64\n",
       "ssn             int64\n",
       "firstname      object\n",
       "lastname       object\n",
       "address        object\n",
       "zip5            int64\n",
       "dob             int64\n",
       "homephone       int64\n",
       "fraud_label     int64\n",
       "dtype: object"
      ]
     },
     "execution_count": 7,
     "metadata": {},
     "output_type": "execute_result"
    }
   ],
   "source": [
    "data.dtypes"
   ]
  },
  {
   "cell_type": "code",
   "execution_count": 8,
   "metadata": {},
   "outputs": [
    {
     "data": {
      "text/plain": [
       "record         1000000\n",
       "date           1000000\n",
       "ssn            1000000\n",
       "firstname      1000000\n",
       "lastname       1000000\n",
       "address        1000000\n",
       "zip5           1000000\n",
       "dob            1000000\n",
       "homephone      1000000\n",
       "fraud_label    1000000\n",
       "dtype: int64"
      ]
     },
     "execution_count": 8,
     "metadata": {},
     "output_type": "execute_result"
    }
   ],
   "source": [
    "data.count()"
   ]
  },
  {
   "cell_type": "code",
   "execution_count": 9,
   "metadata": {},
   "outputs": [
    {
     "data": {
      "text/plain": [
       "record         100.0\n",
       "date           100.0\n",
       "ssn            100.0\n",
       "firstname      100.0\n",
       "lastname       100.0\n",
       "address        100.0\n",
       "zip5           100.0\n",
       "dob            100.0\n",
       "homephone      100.0\n",
       "fraud_label    100.0\n",
       "dtype: float64"
      ]
     },
     "execution_count": 9,
     "metadata": {},
     "output_type": "execute_result"
    }
   ],
   "source": [
    "data.count()/numrecord*100"
   ]
  },
  {
   "cell_type": "code",
   "execution_count": 11,
   "metadata": {},
   "outputs": [],
   "source": [
    "unique_values = []\n",
    "for column in data:\n",
    "    unique_value_count = len(data[column].unique())\n",
    "    unique_values.append([column, unique_value_count])\n",
    "unique_values = pd.DataFrame(unique_values,columns = ['name','unique_values'])"
   ]
  },
  {
   "cell_type": "code",
   "execution_count": 12,
   "metadata": {},
   "outputs": [
    {
     "data": {
      "text/html": [
       "<div>\n",
       "<style scoped>\n",
       "    .dataframe tbody tr th:only-of-type {\n",
       "        vertical-align: middle;\n",
       "    }\n",
       "\n",
       "    .dataframe tbody tr th {\n",
       "        vertical-align: top;\n",
       "    }\n",
       "\n",
       "    .dataframe thead th {\n",
       "        text-align: right;\n",
       "    }\n",
       "</style>\n",
       "<table border=\"1\" class=\"dataframe\">\n",
       "  <thead>\n",
       "    <tr style=\"text-align: right;\">\n",
       "      <th></th>\n",
       "      <th>name</th>\n",
       "      <th>unique_values</th>\n",
       "    </tr>\n",
       "  </thead>\n",
       "  <tbody>\n",
       "    <tr>\n",
       "      <th>0</th>\n",
       "      <td>record</td>\n",
       "      <td>1000000</td>\n",
       "    </tr>\n",
       "    <tr>\n",
       "      <th>1</th>\n",
       "      <td>date</td>\n",
       "      <td>365</td>\n",
       "    </tr>\n",
       "    <tr>\n",
       "      <th>2</th>\n",
       "      <td>ssn</td>\n",
       "      <td>835819</td>\n",
       "    </tr>\n",
       "    <tr>\n",
       "      <th>3</th>\n",
       "      <td>firstname</td>\n",
       "      <td>78136</td>\n",
       "    </tr>\n",
       "    <tr>\n",
       "      <th>4</th>\n",
       "      <td>lastname</td>\n",
       "      <td>177001</td>\n",
       "    </tr>\n",
       "    <tr>\n",
       "      <th>5</th>\n",
       "      <td>address</td>\n",
       "      <td>828774</td>\n",
       "    </tr>\n",
       "    <tr>\n",
       "      <th>6</th>\n",
       "      <td>zip5</td>\n",
       "      <td>26370</td>\n",
       "    </tr>\n",
       "    <tr>\n",
       "      <th>7</th>\n",
       "      <td>dob</td>\n",
       "      <td>42673</td>\n",
       "    </tr>\n",
       "    <tr>\n",
       "      <th>8</th>\n",
       "      <td>homephone</td>\n",
       "      <td>28244</td>\n",
       "    </tr>\n",
       "    <tr>\n",
       "      <th>9</th>\n",
       "      <td>fraud_label</td>\n",
       "      <td>2</td>\n",
       "    </tr>\n",
       "  </tbody>\n",
       "</table>\n",
       "</div>"
      ],
      "text/plain": [
       "          name  unique_values\n",
       "0       record        1000000\n",
       "1         date            365\n",
       "2          ssn         835819\n",
       "3    firstname          78136\n",
       "4     lastname         177001\n",
       "5      address         828774\n",
       "6         zip5          26370\n",
       "7          dob          42673\n",
       "8    homephone          28244\n",
       "9  fraud_label              2"
      ]
     },
     "execution_count": 12,
     "metadata": {},
     "output_type": "execute_result"
    }
   ],
   "source": [
    "unique_values"
   ]
  },
  {
   "cell_type": "code",
   "execution_count": 13,
   "metadata": {},
   "outputs": [
    {
     "data": {
      "text/plain": [
       "20160816    2877\n",
       "20160304    2861\n",
       "20160718    2849\n",
       "20160417    2848\n",
       "20160101    2840\n",
       "20161228    2832\n",
       "20160903    2832\n",
       "20160808    2832\n",
       "20160827    2831\n",
       "20160609    2831\n",
       "20160307    2831\n",
       "20161006    2831\n",
       "20160804    2828\n",
       "20160313    2826\n",
       "20160116    2819\n",
       "20160330    2818\n",
       "20160714    2818\n",
       "20160823    2817\n",
       "20161206    2815\n",
       "20161024    2814\n",
       "20161231    2814\n",
       "20160411    2813\n",
       "20160608    2813\n",
       "20160726    2813\n",
       "20161002    2811\n",
       "20160130    2810\n",
       "20161004    2810\n",
       "20160108    2809\n",
       "20160503    2809\n",
       "20160928    2809\n",
       "            ... \n",
       "20160704    2673\n",
       "20160909    2672\n",
       "20160802    2671\n",
       "20161010    2668\n",
       "20160705    2667\n",
       "20160113    2667\n",
       "20161216    2667\n",
       "20161117    2667\n",
       "20161126    2665\n",
       "20160515    2663\n",
       "20160122    2663\n",
       "20161123    2662\n",
       "20160711    2661\n",
       "20161113    2659\n",
       "20161226    2658\n",
       "20160625    2655\n",
       "20160412    2655\n",
       "20160324    2653\n",
       "20161104    2650\n",
       "20161210    2650\n",
       "20160817    2649\n",
       "20160629    2649\n",
       "20160919    2646\n",
       "20160310    2643\n",
       "20160907    2638\n",
       "20160320    2637\n",
       "20160409    2633\n",
       "20161029    2628\n",
       "20160822    2627\n",
       "20160311    2607\n",
       "Name: date, Length: 365, dtype: int64"
      ]
     },
     "execution_count": 13,
     "metadata": {},
     "output_type": "execute_result"
    }
   ],
   "source": [
    "data['date'].value_counts()"
   ]
  },
  {
   "cell_type": "code",
   "execution_count": 36,
   "metadata": {},
   "outputs": [
    {
     "data": {
      "text/plain": [
       "999999999    16935\n",
       "938972725      114\n",
       "810776805       81\n",
       "829352390       74\n",
       "473311863       44\n",
       "165764866       34\n",
       "189622157       30\n",
       "295308935       30\n",
       "588726212       29\n",
       "163830210       29\n",
       "687424410       28\n",
       "826488428       25\n",
       "457346566       24\n",
       "77441357        24\n",
       "901493436       24\n",
       "407447121       24\n",
       "325064391       23\n",
       "258312431       23\n",
       "256440495       23\n",
       "406203526       23\n",
       "176836012       22\n",
       "108231635       22\n",
       "118692079       22\n",
       "907534928       22\n",
       "849295926       21\n",
       "727200669       21\n",
       "127072438       21\n",
       "205926169       21\n",
       "936716159       21\n",
       "365449201       21\n",
       "             ...  \n",
       "555709770        1\n",
       "886488129        1\n",
       "786443285        1\n",
       "280300599        1\n",
       "198509622        1\n",
       "517282869        1\n",
       "556508844        1\n",
       "767001702        1\n",
       "869786730        1\n",
       "332917867        1\n",
       "370179225        1\n",
       "479229080        1\n",
       "17829015         1\n",
       "32513173         1\n",
       "745542804        1\n",
       "854639758        1\n",
       "240178316        1\n",
       "332438661        1\n",
       "173059203        1\n",
       "699876478        1\n",
       "815223932        1\n",
       "362245243        1\n",
       "730365755        1\n",
       "811039865        1\n",
       "437744760        1\n",
       "555160692        1\n",
       "89796279         1\n",
       "60236914         1\n",
       "232246383        1\n",
       "622713275        1\n",
       "Name: ssn, Length: 835819, dtype: int64"
      ]
     },
     "execution_count": 36,
     "metadata": {},
     "output_type": "execute_result"
    }
   ],
   "source": [
    "data['ssn'].value_counts()"
   ]
  },
  {
   "cell_type": "code",
   "execution_count": 41,
   "metadata": {},
   "outputs": [
    {
     "data": {
      "image/png": "[encoded data removed]",
      "text/plain": [
       "<Figure size 432x288 with 1 Axes>"
      ]
     },
     "metadata": {
      "needs_background": "light"
     },
     "output_type": "display_data"
    }
   ],
   "source": [
    "data['ssn'].value_counts().head(10).plot(kind='bar').set_yscale('log')"
   ]
  },
  {
   "cell_type": "code",
   "execution_count": 14,
   "metadata": {},
   "outputs": [
    {
     "data": {
      "text/plain": [
       "EAMSTRMT     12658\n",
       "TXEMXZZM     10297\n",
       "UXXJJZTUZ    10235\n",
       "UJSRSMUEZ     9994\n",
       "SREZUJMJU     9688\n",
       "EASEXMJAT     7576\n",
       "SSSXUEJMS     6923\n",
       "SZUASTTA      6878\n",
       "EREMTZXXA     6717\n",
       "EAXRRUMUX     5686\n",
       "USSZMRERM     5511\n",
       "MJJJZUZTE     5294\n",
       "MAUJMJTU      5022\n",
       "RSZXMZRSU     5006\n",
       "MEERZUXXU     4966\n",
       "EZTERXZRA     4716\n",
       "RTMMTSZRZ     4618\n",
       "UXZUMTRTR     4600\n",
       "UXJAUZRMM     4580\n",
       "MSRUAREMU     4145\n",
       "AAASERAT      4095\n",
       "RURXRTZAM     4070\n",
       "MRETXAZMJ     4047\n",
       "XUERJXSTU     3839\n",
       "RSXTZRTS      3822\n",
       "XXMZSRXMA     3745\n",
       "ZZURXRJS      3712\n",
       "STRTETJUZ     3637\n",
       "EMTJTUTSM     3607\n",
       "MSXSMXSEM     3570\n",
       "             ...  \n",
       "MAJRRJZZ         1\n",
       "URZZZUAXZ        1\n",
       "RMXMJMUXJ        1\n",
       "RRXSJSMSM        1\n",
       "SAUZESXSA        1\n",
       "EEAZTZAXU        1\n",
       "EJAJMEXZJ        1\n",
       "RXTUUZMRE        1\n",
       "EZUAUUXZA        1\n",
       "SUEUTSZS         1\n",
       "EUJTSTXME        1\n",
       "SMMSSEUZT        1\n",
       "SEZAUSMS         1\n",
       "RMUZMXSZZ        1\n",
       "MUJTEJAR         1\n",
       "RSSRTUSTS        1\n",
       "UZXAEZRZ         1\n",
       "RXMJXAUM         1\n",
       "RTTEJJESJ        1\n",
       "REJRXJES         1\n",
       "SUEXSJXMR        1\n",
       "ESEARRUXS        1\n",
       "RSJSTZTAX        1\n",
       "SAUESXMXE        1\n",
       "XUJZSAXTS        1\n",
       "UZUEETJAT        1\n",
       "RMJZJUEJ         1\n",
       "XMUTMMSXU        1\n",
       "SSXZURXJM        1\n",
       "RTAUJSJZS        1\n",
       "Name: firstname, Length: 78136, dtype: int64"
      ]
     },
     "execution_count": 14,
     "metadata": {},
     "output_type": "execute_result"
    }
   ],
   "source": [
    "data['firstname'].value_counts()"
   ]
  },
  {
   "cell_type": "code",
   "execution_count": 15,
   "metadata": {},
   "outputs": [
    {
     "data": {
      "image/png": "[encoded data removed]",
      "text/plain": [
       "<Figure size 432x288 with 1 Axes>"
      ]
     },
     "metadata": {
      "needs_background": "light"
     },
     "output_type": "display_data"
    }
   ],
   "source": [
    "data['firstname'].value_counts().head(10).plot(kind='bar').set_yscale('log')"
   ]
  },
  {
   "cell_type": "code",
   "execution_count": 16,
   "metadata": {},
   "outputs": [
    {
     "data": {
      "text/plain": [
       "<matplotlib.axes._subplots.AxesSubplot at 0x25b90fca160>"
      ]
     },
     "execution_count": 16,
     "metadata": {},
     "output_type": "execute_result"
    },
    {
     "data": {
      "image/png": "[encoded data removed]",
      "text/plain": [
       "<Figure size 432x288 with 1 Axes>"
      ]
     },
     "metadata": {
      "needs_background": "light"
     },
     "output_type": "display_data"
    }
   ],
   "source": [
    "data['firstname'].value_counts().head(10).plot(kind='bar')"
   ]
  },
  {
   "cell_type": "code",
   "execution_count": 31,
   "metadata": {},
   "outputs": [
    {
     "data": {
      "text/plain": [
       "ERJSAXA     8580\n",
       "UMXUUUSE    7156\n",
       "UMARRMA     6832\n",
       "MEAXJUX     5492\n",
       "XMERRR      5451\n",
       "SXZXJRJT    4340\n",
       "EUSEZRAE    4173\n",
       "USMATTUR    4036\n",
       "ETERUXME    3762\n",
       "RJURSTXJ    3575\n",
       "Name: lastname, dtype: int64"
      ]
     },
     "execution_count": 31,
     "metadata": {},
     "output_type": "execute_result"
    }
   ],
   "source": [
    "data['lastname'].value_counts().head(10)"
   ]
  },
  {
   "cell_type": "code",
   "execution_count": 18,
   "metadata": {},
   "outputs": [
    {
     "data": {
      "text/plain": [
       "<matplotlib.axes._subplots.AxesSubplot at 0x25b9115e588>"
      ]
     },
     "execution_count": 18,
     "metadata": {},
     "output_type": "execute_result"
    },
    {
     "data": {
      "image/png": "[encoded data removed]",
      "text/plain": [
       "<Figure size 432x288 with 1 Axes>"
      ]
     },
     "metadata": {
      "needs_background": "light"
     },
     "output_type": "display_data"
    }
   ],
   "source": [
    "data['lastname'].value_counts().head(10).plot(kind='bar')"
   ]
  },
  {
   "cell_type": "code",
   "execution_count": 33,
   "metadata": {},
   "outputs": [
    {
     "data": {
      "text/plain": [
       "123 MAIN ST       1079\n",
       "1775 XJXE LN        97\n",
       "7433 RAEZA ST       80\n",
       "8911 MZSU DR        74\n",
       "4907 RRAAU DR       73\n",
       "426 XUAXZ BLVD      57\n",
       "606 EZZAU WY        44\n",
       "3545 ARMA ST        44\n",
       "4530 ETSMX WY       42\n",
       "4292 RUSMM LN       41\n",
       "Name: address, dtype: int64"
      ]
     },
     "execution_count": 33,
     "metadata": {},
     "output_type": "execute_result"
    }
   ],
   "source": [
    "data['address'].value_counts().head(10)"
   ]
  },
  {
   "cell_type": "code",
   "execution_count": 20,
   "metadata": {},
   "outputs": [
    {
     "data": {
      "image/png": "[encoded data removed]",
      "text/plain": [
       "<Figure size 432x288 with 1 Axes>"
      ]
     },
     "metadata": {
      "needs_background": "light"
     },
     "output_type": "display_data"
    }
   ],
   "source": [
    "data['address'].value_counts().head(10).plot(kind='bar').set_yscale('log')"
   ]
  },
  {
   "cell_type": "code",
   "execution_count": 34,
   "metadata": {},
   "outputs": [
    {
     "data": {
      "text/plain": [
       "68138    823\n",
       "90042    514\n",
       "89835    489\n",
       "35227    478\n",
       "14931    459\n",
       "86500    438\n",
       "12700    436\n",
       "1362     434\n",
       "59695    432\n",
       "52317    432\n",
       "Name: zip5, dtype: int64"
      ]
     },
     "execution_count": 34,
     "metadata": {},
     "output_type": "execute_result"
    }
   ],
   "source": [
    "data['zip5'].value_counts().head(10)"
   ]
  },
  {
   "cell_type": "code",
   "execution_count": 35,
   "metadata": {},
   "outputs": [
    {
     "data": {
      "text/plain": [
       "<matplotlib.axes._subplots.AxesSubplot at 0x25b91039358>"
      ]
     },
     "execution_count": 35,
     "metadata": {},
     "output_type": "execute_result"
    },
    {
     "data": {
      "image/png": "[encoded data removed]",
      "text/plain": [
       "<Figure size 432x288 with 1 Axes>"
      ]
     },
     "metadata": {
      "needs_background": "light"
     },
     "output_type": "display_data"
    }
   ],
   "source": [
    "data['zip5'].value_counts().head(10).plot(kind='bar')"
   ]
  },
  {
   "cell_type": "code",
   "execution_count": 22,
   "metadata": {},
   "outputs": [
    {
     "data": {
      "image/png": "[encoded data removed]",
      "text/plain": [
       "<Figure size 432x288 with 1 Axes>"
      ]
     },
     "metadata": {
      "needs_background": "light"
     },
     "output_type": "display_data"
    }
   ],
   "source": [
    "data['zip5'].value_counts().head(10).plot(kind='bar').set_yscale('log')"
   ]
  },
  {
   "cell_type": "code",
   "execution_count": 36,
   "metadata": {},
   "outputs": [
    {
     "data": {
      "text/plain": [
       "19070626    126568\n",
       "19640318      4818\n",
       "19760625      3723\n",
       "19880628      1404\n",
       "19740216       980\n",
       "20090127       280\n",
       "19460901       135\n",
       "19591208       126\n",
       "19280611       120\n",
       "19670215       102\n",
       "Name: dob, dtype: int64"
      ]
     },
     "execution_count": 36,
     "metadata": {},
     "output_type": "execute_result"
    }
   ],
   "source": [
    "data['dob'].value_counts().head(10)"
   ]
  },
  {
   "cell_type": "code",
   "execution_count": 24,
   "metadata": {},
   "outputs": [
    {
     "data": {
      "image/png": "[encoded data removed]",
      "text/plain": [
       "<Figure size 432x288 with 1 Axes>"
      ]
     },
     "metadata": {
      "needs_background": "light"
     },
     "output_type": "display_data"
    }
   ],
   "source": [
    "data['dob'].value_counts().head(10).plot(kind='bar').set_yscale('log')"
   ]
  },
  {
   "cell_type": "code",
   "execution_count": 37,
   "metadata": {},
   "outputs": [
    {
     "data": {
      "text/plain": [
       "9999999999    78512\n",
       "6384782007      466\n",
       "6035129044      360\n",
       "2113738531      331\n",
       "4024680535      198\n",
       "2669445638      172\n",
       "6637507363      169\n",
       "8629049955      139\n",
       "3364980740      110\n",
       "1324008228      108\n",
       "Name: homephone, dtype: int64"
      ]
     },
     "execution_count": 37,
     "metadata": {},
     "output_type": "execute_result"
    }
   ],
   "source": [
    "data['homephone'].value_counts().head(10)"
   ]
  },
  {
   "cell_type": "code",
   "execution_count": 26,
   "metadata": {},
   "outputs": [
    {
     "data": {
      "image/png": "[encoded data removed]",
      "text/plain": [
       "<Figure size 432x288 with 1 Axes>"
      ]
     },
     "metadata": {
      "needs_background": "light"
     },
     "output_type": "display_data"
    }
   ],
   "source": [
    "data['homephone'].value_counts().head(10).plot(kind='bar').set_yscale('log')"
   ]
  },
  {
   "cell_type": "code",
   "execution_count": 28,
   "metadata": {},
   "outputs": [
    {
     "data": {
      "text/plain": [
       "0    985607\n",
       "1     14393\n",
       "Name: fraud_label, dtype: int64"
      ]
     },
     "execution_count": 28,
     "metadata": {},
     "output_type": "execute_result"
    }
   ],
   "source": [
    "data['fraud_label'].value_counts()"
   ]
  },
  {
   "cell_type": "code",
   "execution_count": 29,
   "metadata": {},
   "outputs": [
    {
     "data": {
      "text/plain": [
       "<matplotlib.axes._subplots.AxesSubplot at 0x25b91039e10>"
      ]
     },
     "execution_count": 29,
     "metadata": {},
     "output_type": "execute_result"
    },
    {
     "data": {
      "image/png": "[encoded data removed]",
      "text/plain": [
       "<Figure size 432x288 with 1 Axes>"
      ]
     },
     "metadata": {
      "needs_background": "light"
     },
     "output_type": "display_data"
    }
   ],
   "source": [
    "data['fraud_label'].value_counts().plot(kind='bar')"
   ]
  },
  {
   "cell_type": "code",
   "execution_count": 30,
   "metadata": {},
   "outputs": [
    {
     "data": {
      "image/png": "[encoded data removed]",
      "text/plain": [
       "<Figure size 432x288 with 1 Axes>"
      ]
     },
     "metadata": {
      "needs_background": "light"
     },
     "output_type": "display_data"
    }
   ],
   "source": [
    "data['fraud_label'].value_counts().plot(kind='bar').set_yscale('log')"
   ]
  },
  {
   "cell_type": "code",
   "execution_count": null,
   "metadata": {},
   "outputs": [],
   "source": [
    "data.head(5)  "
   ]
  },
  {
   "cell_type": "code",
   "execution_count": 32,
   "metadata": {},
   "outputs": [],
   "source": [
    "byear = []\n",
    "for i in range(len(data)):\n",
    "    year = int(str(data.loc[i,'dob'])[:4])\n",
    "    byear.append(year)"
   ]
  },
  {
   "cell_type": "code",
   "execution_count": 35,
   "metadata": {},
   "outputs": [],
   "source": [
    "data['byear'] = byear"
   ]
  },
  {
   "cell_type": "code",
   "execution_count": 36,
   "metadata": {},
   "outputs": [
    {
     "data": {
      "text/html": [
       "<div>\n",
       "<style scoped>\n",
       "    .dataframe tbody tr th:only-of-type {\n",
       "        vertical-align: middle;\n",
       "    }\n",
       "\n",
       "    .dataframe tbody tr th {\n",
       "        vertical-align: top;\n",
       "    }\n",
       "\n",
       "    .dataframe thead th {\n",
       "        text-align: right;\n",
       "    }\n",
       "</style>\n",
       "<table border=\"1\" class=\"dataframe\">\n",
       "  <thead>\n",
       "    <tr style=\"text-align: right;\">\n",
       "      <th></th>\n",
       "      <th>record</th>\n",
       "      <th>date</th>\n",
       "      <th>ssn</th>\n",
       "      <th>firstname</th>\n",
       "      <th>lastname</th>\n",
       "      <th>address</th>\n",
       "      <th>zip5</th>\n",
       "      <th>dob</th>\n",
       "      <th>homephone</th>\n",
       "      <th>fraud_label</th>\n",
       "      <th>byear</th>\n",
       "    </tr>\n",
       "  </thead>\n",
       "  <tbody>\n",
       "    <tr>\n",
       "      <th>0</th>\n",
       "      <td>1</td>\n",
       "      <td>20160101</td>\n",
       "      <td>379070012</td>\n",
       "      <td>XRRAMMTR</td>\n",
       "      <td>SMJETJMJ</td>\n",
       "      <td>6861 EUTST PL</td>\n",
       "      <td>2765</td>\n",
       "      <td>19070626</td>\n",
       "      <td>1797504115</td>\n",
       "      <td>0</td>\n",
       "      <td>1907</td>\n",
       "    </tr>\n",
       "    <tr>\n",
       "      <th>1</th>\n",
       "      <td>2</td>\n",
       "      <td>20160101</td>\n",
       "      <td>387482503</td>\n",
       "      <td>MAMSTUJR</td>\n",
       "      <td>RTTEMRRR</td>\n",
       "      <td>7280 URASA PL</td>\n",
       "      <td>57169</td>\n",
       "      <td>19340615</td>\n",
       "      <td>4164239415</td>\n",
       "      <td>1</td>\n",
       "      <td>1934</td>\n",
       "    </tr>\n",
       "    <tr>\n",
       "      <th>2</th>\n",
       "      <td>3</td>\n",
       "      <td>20160101</td>\n",
       "      <td>200332444</td>\n",
       "      <td>SZMMUJEZS</td>\n",
       "      <td>EUSEZRAE</td>\n",
       "      <td>5581 RSREX LN</td>\n",
       "      <td>56721</td>\n",
       "      <td>19070626</td>\n",
       "      <td>216537580</td>\n",
       "      <td>0</td>\n",
       "      <td>1907</td>\n",
       "    </tr>\n",
       "    <tr>\n",
       "      <th>3</th>\n",
       "      <td>4</td>\n",
       "      <td>20160101</td>\n",
       "      <td>747451317</td>\n",
       "      <td>SJJZSXRSZ</td>\n",
       "      <td>ETJXTXXS</td>\n",
       "      <td>1387 UJZXJ RD</td>\n",
       "      <td>35286</td>\n",
       "      <td>19440430</td>\n",
       "      <td>132144161</td>\n",
       "      <td>0</td>\n",
       "      <td>1944</td>\n",
       "    </tr>\n",
       "    <tr>\n",
       "      <th>4</th>\n",
       "      <td>5</td>\n",
       "      <td>20160101</td>\n",
       "      <td>24065868</td>\n",
       "      <td>SSSXUEJMS</td>\n",
       "      <td>SSUUJXUZ</td>\n",
       "      <td>279 EAASA WY</td>\n",
       "      <td>3173</td>\n",
       "      <td>19980315</td>\n",
       "      <td>6101082272</td>\n",
       "      <td>0</td>\n",
       "      <td>1998</td>\n",
       "    </tr>\n",
       "    <tr>\n",
       "      <th>5</th>\n",
       "      <td>6</td>\n",
       "      <td>20160101</td>\n",
       "      <td>922264214</td>\n",
       "      <td>XEEJJSTER</td>\n",
       "      <td>ERJSAXA</td>\n",
       "      <td>4322 USJXU LN</td>\n",
       "      <td>8391</td>\n",
       "      <td>19480613</td>\n",
       "      <td>5742016319</td>\n",
       "      <td>0</td>\n",
       "      <td>1948</td>\n",
       "    </tr>\n",
       "    <tr>\n",
       "      <th>6</th>\n",
       "      <td>7</td>\n",
       "      <td>20160101</td>\n",
       "      <td>415812149</td>\n",
       "      <td>XZJRJUSRR</td>\n",
       "      <td>STSMJRUM</td>\n",
       "      <td>478 EEXUM LN</td>\n",
       "      <td>41640</td>\n",
       "      <td>19640318</td>\n",
       "      <td>7697396312</td>\n",
       "      <td>0</td>\n",
       "      <td>1964</td>\n",
       "    </tr>\n",
       "    <tr>\n",
       "      <th>7</th>\n",
       "      <td>8</td>\n",
       "      <td>20160101</td>\n",
       "      <td>373752050</td>\n",
       "      <td>EJMRRSUXR</td>\n",
       "      <td>AMTZXRU</td>\n",
       "      <td>8906 UUAJ PL</td>\n",
       "      <td>60567</td>\n",
       "      <td>19190528</td>\n",
       "      <td>2727421586</td>\n",
       "      <td>0</td>\n",
       "      <td>1919</td>\n",
       "    </tr>\n",
       "    <tr>\n",
       "      <th>8</th>\n",
       "      <td>9</td>\n",
       "      <td>20160101</td>\n",
       "      <td>769970791</td>\n",
       "      <td>RXTSZJATS</td>\n",
       "      <td>RSXMRJME</td>\n",
       "      <td>8266 SSEAR RD</td>\n",
       "      <td>37934</td>\n",
       "      <td>19900314</td>\n",
       "      <td>5520652307</td>\n",
       "      <td>0</td>\n",
       "      <td>1990</td>\n",
       "    </tr>\n",
       "    <tr>\n",
       "      <th>9</th>\n",
       "      <td>10</td>\n",
       "      <td>20160101</td>\n",
       "      <td>732119085</td>\n",
       "      <td>EREMTZXXA</td>\n",
       "      <td>EXMMSEXT</td>\n",
       "      <td>9166 XXSAZ PL</td>\n",
       "      <td>93751</td>\n",
       "      <td>19750127</td>\n",
       "      <td>3749451123</td>\n",
       "      <td>0</td>\n",
       "      <td>1975</td>\n",
       "    </tr>\n",
       "  </tbody>\n",
       "</table>\n",
       "</div>"
      ],
      "text/plain": [
       "   record      date        ssn  firstname  lastname        address   zip5  \\\n",
       "0       1  20160101  379070012   XRRAMMTR  SMJETJMJ  6861 EUTST PL   2765   \n",
       "1       2  20160101  387482503   MAMSTUJR  RTTEMRRR  7280 URASA PL  57169   \n",
       "2       3  20160101  200332444  SZMMUJEZS  EUSEZRAE  5581 RSREX LN  56721   \n",
       "3       4  20160101  747451317  SJJZSXRSZ  ETJXTXXS  1387 UJZXJ RD  35286   \n",
       "4       5  20160101   24065868  SSSXUEJMS  SSUUJXUZ   279 EAASA WY   3173   \n",
       "5       6  20160101  922264214  XEEJJSTER   ERJSAXA  4322 USJXU LN   8391   \n",
       "6       7  20160101  415812149  XZJRJUSRR  STSMJRUM   478 EEXUM LN  41640   \n",
       "7       8  20160101  373752050  EJMRRSUXR   AMTZXRU   8906 UUAJ PL  60567   \n",
       "8       9  20160101  769970791  RXTSZJATS  RSXMRJME  8266 SSEAR RD  37934   \n",
       "9      10  20160101  732119085  EREMTZXXA  EXMMSEXT  9166 XXSAZ PL  93751   \n",
       "\n",
       "        dob   homephone  fraud_label  byear  \n",
       "0  19070626  1797504115            0   1907  \n",
       "1  19340615  4164239415            1   1934  \n",
       "2  19070626   216537580            0   1907  \n",
       "3  19440430   132144161            0   1944  \n",
       "4  19980315  6101082272            0   1998  \n",
       "5  19480613  5742016319            0   1948  \n",
       "6  19640318  7697396312            0   1964  \n",
       "7  19190528  2727421586            0   1919  \n",
       "8  19900314  5520652307            0   1990  \n",
       "9  19750127  3749451123            0   1975  "
      ]
     },
     "execution_count": 36,
     "metadata": {},
     "output_type": "execute_result"
    }
   ],
   "source": [
    "data.head(10)"
   ]
  },
  {
   "cell_type": "code",
   "execution_count": null,
   "metadata": {},
   "outputs": [],
   "source": []
  }
 ],
 "metadata": {
  "kernelspec": {
   "display_name": "Python 3",
   "language": "python",
   "name": "python3"
  },
  "language_info": {
   "codemirror_mode": {
    "name": "ipython",
    "version": 3
   },
   "file_extension": ".py",
   "mimetype": "text/x-python",
   "name": "python",
   "nbconvert_exporter": "python",
   "pygments_lexer": "ipython3",
   "version": "3.7.1"
  }
 },
 "nbformat": 4,
 "nbformat_minor": 2
}
